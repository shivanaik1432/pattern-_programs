{
 "cells": [
  {
   "cell_type": "code",
   "execution_count": 1,
   "id": "017947ed",
   "metadata": {},
   "outputs": [
    {
     "name": "stdout",
     "output_type": "stream",
     "text": [
      "* * * * * \n",
      "* * * * * \n",
      "* * * * * \n",
      "* * * * * \n",
      "* * * * * \n"
     ]
    }
   ],
   "source": [
    "#square\n",
    "#st=stars and sp=spaces\n",
    "n=5\n",
    "st=n\n",
    "sp=0\n",
    "for i in range(n):\n",
    "    for j in range(st):\n",
    "        print('*',end=\" \")\n",
    "    print()"
   ]
  },
  {
   "cell_type": "code",
   "execution_count": 2,
   "id": "7a43edb7",
   "metadata": {},
   "outputs": [
    {
     "name": "stdout",
     "output_type": "stream",
     "text": [
      "* * * * * \n",
      "* * * * * \n",
      "* * * * * \n",
      "* * * * * \n",
      "* * * * * \n"
     ]
    }
   ],
   "source": [
    "# square by using functions\n",
    "def square(n):\n",
    "    sp,st=0,5\n",
    "    for i in range(n):\n",
    "        for j in range(st):\n",
    "            print('*',end=\" \")\n",
    "        print()\n",
    "square(5)"
   ]
  },
  {
   "cell_type": "code",
   "execution_count": 17,
   "id": "cc47778b",
   "metadata": {},
   "outputs": [
    {
     "name": "stdout",
     "output_type": "stream",
     "text": [
      "        * \n",
      "      * * * \n",
      "    * * * * * \n",
      "  * * * * * * * \n",
      "* * * * * * * * * \n"
     ]
    }
   ],
   "source": [
    "# Traingle\n",
    "sp=n-1\n",
    "st=1\n",
    "n=5\n",
    "for i in range(n):\n",
    "    for j in range(sp):\n",
    "        print(' ',end=\" \")\n",
    "    for k in range(st):\n",
    "        print('*',end=\" \")\n",
    "    print()\n",
    "    sp-=1\n",
    "    st+=2"
   ]
  },
  {
   "cell_type": "code",
   "execution_count": 19,
   "id": "d641ea99",
   "metadata": {},
   "outputs": [
    {
     "name": "stdout",
     "output_type": "stream",
     "text": [
      "        * \n",
      "      * * * \n",
      "    * * * * * \n",
      "  * * * * * * * \n",
      "* * * * * * * * * \n"
     ]
    }
   ],
   "source": [
    "# By using function\n",
    "def traingle(n):\n",
    "    st=1\n",
    "    sp=n-1\n",
    "    for i in range(n):\n",
    "        for j in range(sp):\n",
    "            print(' ',end=\" \")\n",
    "        for k in range(st):\n",
    "            print('*',end=\" \")\n",
    "        print()\n",
    "        sp-=1\n",
    "        st+=2\n",
    "traingle(5)"
   ]
  },
  {
   "cell_type": "code",
   "execution_count": 20,
   "id": "fe88a1f4",
   "metadata": {},
   "outputs": [
    {
     "name": "stdout",
     "output_type": "stream",
     "text": [
      "* \n",
      "* * \n",
      "* * * \n",
      "* * * * \n",
      "* * * * * \n"
     ]
    }
   ],
   "source": [
    "# traingle\n",
    "n=5\n",
    "st=1\n",
    "sp=0\n",
    "for i in range(n):\n",
    "    for j in range(st):\n",
    "        print('*',end=' ')\n",
    "    print()\n",
    "    st+=1"
   ]
  },
  {
   "cell_type": "code",
   "execution_count": 21,
   "id": "2295e05a",
   "metadata": {},
   "outputs": [
    {
     "name": "stdout",
     "output_type": "stream",
     "text": [
      "          * \n",
      "        * * \n",
      "      * * * \n",
      "    * * * * \n",
      "  * * * * * \n"
     ]
    }
   ],
   "source": [
    "n=5\n",
    "sp=n\n",
    "st=1\n",
    "for i in range(n):\n",
    "    for j in range(sp):\n",
    "        print(' ',end=\" \")\n",
    "    for k in range(st):\n",
    "        print('*',end=\" \")\n",
    "    print()\n",
    "    sp-=1\n",
    "    st+=1"
   ]
  },
  {
   "cell_type": "code",
   "execution_count": 22,
   "id": "70965a2b",
   "metadata": {},
   "outputs": [
    {
     "name": "stdout",
     "output_type": "stream",
     "text": [
      "* * * * * \n",
      "* * * * \n",
      "* * * \n",
      "* * \n",
      "* \n"
     ]
    }
   ],
   "source": [
    "n=5\n",
    "st=n\n",
    "sp=0\n",
    "for i in range(n):\n",
    "    for j in range(st):\n",
    "        print('*',end=\" \")\n",
    "    for k in range(sp):\n",
    "        print(' ',end=\" \")\n",
    "    print()\n",
    "    st-=1"
   ]
  },
  {
   "cell_type": "code",
   "execution_count": 23,
   "id": "9311eb43",
   "metadata": {},
   "outputs": [
    {
     "name": "stdout",
     "output_type": "stream",
     "text": [
      "* * * * * \n",
      "  * * * * \n",
      "    * * * \n",
      "      * * \n",
      "        * \n"
     ]
    }
   ],
   "source": [
    "n=5\n",
    "sp=0\n",
    "st=n\n",
    "for i in range(n):\n",
    "    for j in range(sp):\n",
    "        print(' ',end=\" \")\n",
    "    for k in range(st):\n",
    "        print('*',end=\" \")\n",
    "    print()\n",
    "    sp+=1\n",
    "    st-=1"
   ]
  },
  {
   "cell_type": "code",
   "execution_count": 25,
   "id": "505ba525",
   "metadata": {},
   "outputs": [
    {
     "name": "stdout",
     "output_type": "stream",
     "text": [
      "                * \n",
      "              * * * \n",
      "            * * * * * \n",
      "          * * * * * * * \n",
      "        * * * * * * * * * \n",
      "          * * * * * * * \n",
      "            * * * * * \n",
      "              * * * \n",
      "                * \n"
     ]
    }
   ],
   "source": [
    "n=9\n",
    "sp=n-1\n",
    "st=1\n",
    "for i in range(n):\n",
    "    for k in range(sp):\n",
    "        print(' ',end=\" \")\n",
    "    for j in range(st):\n",
    "        print('*',end=\" \")\n",
    "    print()\n",
    "    if i<n//2:\n",
    "        st+=2\n",
    "        sp-=1\n",
    "    else:\n",
    "        st-=2\n",
    "        sp+=1"
   ]
  },
  {
   "cell_type": "code",
   "execution_count": 26,
   "id": "8359b8a7",
   "metadata": {},
   "outputs": [
    {
     "name": "stdout",
     "output_type": "stream",
     "text": [
      "        * \n",
      "      * \n",
      "    * \n",
      "  * \n",
      "* \n"
     ]
    }
   ],
   "source": [
    "n=5\n",
    "sp=n-1\n",
    "st=1\n",
    "for i in range(n):\n",
    "    for j in range(sp):\n",
    "        print(' ',end=\" \")\n",
    "    for k in range(st):\n",
    "        print('*',end=\" \")\n",
    "    print()\n",
    "    sp-=1"
   ]
  },
  {
   "cell_type": "code",
   "execution_count": 27,
   "id": "3b3dd598",
   "metadata": {},
   "outputs": [
    {
     "name": "stdout",
     "output_type": "stream",
     "text": [
      "* \n",
      "  * \n",
      "    * \n",
      "      * \n",
      "        * \n"
     ]
    }
   ],
   "source": [
    "n=5\n",
    "sp=0\n",
    "st=1\n",
    "for i in range(n):\n",
    "    for j in range(sp):\n",
    "        print(' ',end=\" \")\n",
    "    for k in range(st):\n",
    "        print('*',end=\" \")\n",
    "    print()\n",
    "    sp+=1"
   ]
  },
  {
   "cell_type": "code",
   "execution_count": 31,
   "id": "c2a03c33",
   "metadata": {},
   "outputs": [
    {
     "name": "stdout",
     "output_type": "stream",
     "text": [
      "* * * * * * * * * \n",
      "  * * * * * * * \n",
      "    * * * * * \n",
      "      * * * \n",
      "        * \n"
     ]
    }
   ],
   "source": [
    "#reverse pyramid\n",
    "def ReversePyramid(n):\n",
    "    st=n*2-1\n",
    "    sp=0\n",
    "    for i in range(n):\n",
    "        for j in range(sp):\n",
    "            print(' ',end=\" \")\n",
    "        for k in range(st):\n",
    "            print('*',end=\" \")\n",
    "        print()\n",
    "        sp+=1\n",
    "        st-=2\n",
    "ReversePyramid(5)        "
   ]
  },
  {
   "cell_type": "code",
   "execution_count": 34,
   "id": "e3108564",
   "metadata": {},
   "outputs": [
    {
     "name": "stdout",
     "output_type": "stream",
     "text": [
      "* \n",
      "* * \n",
      "* * * \n",
      "* * \n",
      "* \n"
     ]
    }
   ],
   "source": [
    "#right star\n",
    "def Rightstar(n):\n",
    "    st=1\n",
    "    for i in range(n):\n",
    "        for j in range(st):\n",
    "            print('*',end=\" \")\n",
    "        print()\n",
    "        if i<n//2:\n",
    "            st+=1\n",
    "        else:\n",
    "            st-=1\n",
    "Rightstar(5)"
   ]
  },
  {
   "cell_type": "code",
   "execution_count": 36,
   "id": "417c130f",
   "metadata": {},
   "outputs": [
    {
     "name": "stdout",
     "output_type": "stream",
     "text": [
      "            * \n",
      "          * * \n",
      "        * * * \n",
      "      * * * * \n",
      "        * * * \n",
      "          * * \n",
      "            * \n"
     ]
    }
   ],
   "source": [
    "#leftstar\n",
    "def leftstar(n):\n",
    "    sp=n-1\n",
    "    st=1\n",
    "    for i in range(n):\n",
    "        for j in range(sp):\n",
    "            print(' ',end=\" \")\n",
    "        for k in range(st):\n",
    "            print('*',end=\" \")\n",
    "        print()\n",
    "        if i<n//2:\n",
    "            sp-=1\n",
    "            st+=1\n",
    "        else:\n",
    "            sp+=1\n",
    "            st-=1\n",
    "leftstar(7)"
   ]
  },
  {
   "cell_type": "code",
   "execution_count": 38,
   "id": "7bc83235",
   "metadata": {},
   "outputs": [
    {
     "name": "stdout",
     "output_type": "stream",
     "text": [
      "* * * * * * * \n",
      "  * * * * * \n",
      "    * * * \n",
      "      * \n",
      "    * * * \n",
      "  * * * * * \n",
      "* * * * * * * \n"
     ]
    }
   ],
   "source": [
    "#HourGlass\n",
    "def Hourglass(n):\n",
    "    st=n\n",
    "    sp=0\n",
    "    for i in range(n):\n",
    "        for j in range(sp):\n",
    "            print(' ',end=\" \")\n",
    "        for k in range(st):\n",
    "            print('*',end=\" \")\n",
    "        print()\n",
    "        if i<n//2:\n",
    "            sp+=1\n",
    "            st-=2\n",
    "        else:\n",
    "            sp-=1\n",
    "            st+=2\n",
    "Hourglass(7)"
   ]
  },
  {
   "cell_type": "code",
   "execution_count": 40,
   "id": "0f19e1e6",
   "metadata": {},
   "outputs": [
    {
     "name": "stdout",
     "output_type": "stream",
     "text": [
      "            * \n",
      "          * * * \n",
      "        * * * * * \n",
      "      * * * * * * * \n",
      "        * * * * * \n",
      "          * * * \n",
      "            * \n"
     ]
    }
   ],
   "source": [
    "#diamond\n",
    "def diamond(n):\n",
    "    sp=n-1\n",
    "    st=1\n",
    "    for i in range(n):\n",
    "        for j in range(sp):\n",
    "            print(' ',end=\" \")\n",
    "        for k in range(st):\n",
    "            print('*',end=\" \")\n",
    "        print()\n",
    "        if i<n//2:\n",
    "            st+=2\n",
    "            sp-=1\n",
    "        else:\n",
    "            st-=2\n",
    "            sp+=1\n",
    "diamond(7)"
   ]
  },
  {
   "cell_type": "code",
   "execution_count": 42,
   "id": "b5bd88cf",
   "metadata": {},
   "outputs": [
    {
     "name": "stdout",
     "output_type": "stream",
     "text": [
      "      *       \n",
      "    *   *     \n",
      "  *       *   \n",
      "*           * \n",
      "  *       *   \n",
      "    *   *     \n",
      "      *       \n"
     ]
    }
   ],
   "source": [
    "#sides stars\n",
    "n=7\n",
    "for i in range(n):\n",
    "    for j in range(n):\n",
    "        if i+j==n//2 or abs(i-j)==n//2 or i+j==n//2*3:\n",
    "            print('*',end=\" \")\n",
    "        else:\n",
    "            print(' ',end=\" \")\n",
    "    print()"
   ]
  },
  {
   "cell_type": "code",
   "execution_count": null,
   "id": "839aec61",
   "metadata": {},
   "outputs": [],
   "source": []
  }
 ],
 "metadata": {
  "kernelspec": {
   "display_name": "Python 3",
   "language": "python",
   "name": "python3"
  },
  "language_info": {
   "codemirror_mode": {
    "name": "ipython",
    "version": 3
   },
   "file_extension": ".py",
   "mimetype": "text/x-python",
   "name": "python",
   "nbconvert_exporter": "python",
   "pygments_lexer": "ipython3",
   "version": "3.8.8"
  }
 },
 "nbformat": 4,
 "nbformat_minor": 5
}
